{
 "cells": [
  {
   "cell_type": "markdown",
   "id": "68e98250-b820-40f4-b041-741e2cb531da",
   "metadata": {
    "tags": []
   },
   "source": [
    "## **06.a MagLim sample**\n",
    "#### Authors: **Amanda Farias (afariassantos2@gmail.com), Iago Lopes (iagolops2012@gmail.com)**,\n",
    "#### Creation date: **09/09/2024**,  \n",
    "#### Last Verifed to Run: **11/19/2024** (by @iagolops)\n",
    "\n",
    "The objective of optimize MagLim sample from our previous results. For this we are going to look at some metrics for different parameters of the selector. For more details about the definition of MagLim, visit [this paper](https://arxiv.org/abs/2011.03411).\n",
    "$~$\n",
    "##### Logistics: This notebook is intended to be run through the Jupyter Lab NERSC interface available in __[Jupyter nersc](https://jupyter.nersc.gov/)__ ."
   ]
  },
  {
   "cell_type": "markdown",
   "id": "e2406daa-b695-4579-a818-b0a2f1203a85",
   "metadata": {},
   "source": [
    "<div class=\"alert alert-block alert-danger\">\n",
    "<b>attention:</b> For the final notebook, we will use the test dataset from notebook 2, for now, let's use the previously output evaluated by Iago. </div>"
   ]
  },
  {
   "cell_type": "markdown",
   "id": "ef2e5025-ff47-41b2-a60a-542760c4304e",
   "metadata": {
    "tags": []
   },
   "source": [
    "### Importing packages used in this notebook"
   ]
  },
  {
   "cell_type": "code",
   "execution_count": null,
   "id": "5a39a0a2-1b17-4ded-bb15-2f4196c287b8",
   "metadata": {
    "tags": []
   },
   "outputs": [],
   "source": [
    "import numpy as np\n",
    "import pandas as pd\n",
    "import seaborn as sns\n",
    "import tables_io\n",
    "import qp\n",
    "import matplotlib.pyplot as plt\n",
    "\n",
    "from scipy.interpolate import UnivariateSpline\n",
    "from tqdm import tqdm\n",
    "\n",
    "\n",
    "from rail.core.data import (\n",
    "    TableHandle,\n",
    "    PqHandle,\n",
    "    ModelHandle,\n",
    "    QPHandle,\n",
    "    DataHandle,\n",
    "    Hdf5Handle,\n",
    "    QPOrTableHandle\n",
    ")\n",
    "\n",
    "from rail.estimation.algos.naive_stack import NaiveStackSummarizer\n",
    "from rail.estimation.algos.true_nz import TrueNZHistogrammer\n",
    "\n",
    "from rail.evaluation.dist_to_dist_evaluator import DistToDistEvaluator\n",
    "from rail.evaluation.dist_to_point_evaluator import DistToPointEvaluator\n",
    "from rail.evaluation.point_to_point_evaluator import PointToPointEvaluator\n",
    "from rail.evaluation.single_evaluator import SingleEvaluator\n",
    "from rail.core.stage import RailStage\n",
    "from Metrics import plot_old_valid, plot_metrics, plot_scatter, plot_pit_qq\n",
    "\n",
    "from Plots import (\n",
    "    plot_position,\n",
    "    plot_errors,\n",
    "    plot_color_color,\n",
    "    plot_mag_color,\n",
    "    plot_mag_histogram,\n",
    "    plot_color_color_red,\n",
    "    plot_z_dist\n",
    ")\n"
   ]
  },
  {
   "cell_type": "code",
   "execution_count": null,
   "id": "55c87d81-e7c3-4372-ae1e-96ea167e679f",
   "metadata": {
    "tags": []
   },
   "outputs": [],
   "source": [
    "import warnings\n",
    "warnings.filterwarnings(\"ignore\")"
   ]
  },
  {
   "cell_type": "code",
   "execution_count": null,
   "id": "fa3250b4-237f-4b09-8fa9-a4a56f0c65e9",
   "metadata": {
    "tags": []
   },
   "outputs": [],
   "source": [
    "DS = RailStage.data_store\n",
    "DS.__class__.allow_overwrite = True"
   ]
  },
  {
   "cell_type": "code",
   "execution_count": null,
   "id": "c3cf6a10-a3b2-4cc7-8114-29bf3cd68642",
   "metadata": {
    "tags": []
   },
   "outputs": [],
   "source": [
    "path = '/pscratch/sd/i/iago'"
   ]
  },
  {
   "cell_type": "markdown",
   "id": "fb74fa53-204d-456b-bfcb-0b136332b157",
   "metadata": {
    "tags": []
   },
   "source": [
    "## Loading results"
   ]
  },
  {
   "cell_type": "code",
   "execution_count": null,
   "id": "a60fcc5e-1b4b-44df-946e-5896fa106aa3",
   "metadata": {
    "tags": []
   },
   "outputs": [],
   "source": [
    "##############################################\n",
    "############### Photo-z redshift #############\n",
    "##############################################\n",
    "\n",
    "############## Download the catalog with the photo-z #############\n",
    "\n",
    "result = DS.read_file('pdfs_data', QPHandle, \n",
    "                      f'{path}/roman_rubin_samples/results_y1/output_estimate_a_roman_fzb_y1_10sig.hdf5')\n",
    "\n",
    "############### Max redshift ##############\n",
    "z_max = result().build_tables()['meta']['xvals'][0][-1]\n",
    "\n",
    "############ X values for plot ############\n",
    "zgrid = np.linspace(0, z_max, 301)\n",
    "\n",
    "################## PDFS ##################\n",
    "pdfs = result().ancil['zmode'].flatten()\n",
    "\n",
    "########## Median or mode of PDF ##########\n",
    "#mean = result().mean()\n",
    "mean = result().mode(zgrid)\n",
    "\n",
    "#### Array of photo-z with 132891 galaxies\n",
    "zphot  = np.array([valor for sublista in mean for valor in sublista])\n",
    "\n",
    "##############################################\n",
    "################ True redshift ###############\n",
    "##############################################\n",
    "\n",
    "catalog = pd.read_csv(f'{path}/roman_rubin_samples/roman_rubin_y1_a_test_10sig.csv', sep=' ')\n",
    "catalog['zphot'] = zphot\n",
    "ztrue = catalog['redshift']"
   ]
  },
  {
   "cell_type": "markdown",
   "id": "32f7aa2c-6faf-4348-a061-610496ee590b",
   "metadata": {
    "tags": []
   },
   "source": [
    "## Getting error of full sample"
   ]
  },
  {
   "cell_type": "code",
   "execution_count": null,
   "id": "3df3eba0-d87a-489a-99c8-80d9ed9fd9d9",
   "metadata": {
    "tags": []
   },
   "outputs": [],
   "source": [
    "sigmas = []\n",
    "z_bins = np.linspace(0,2,20)\n",
    "\n",
    "\n",
    "for index in range(len(z_bins[1:])):\n",
    "    zph = zphot[(zphot<=z_bins[index]) & (zphot>=z_bins[index-1])]\n",
    "    ztr = ztrue[(zphot<=z_bins[index]) & (zphot>=z_bins[index-1])]\n",
    "    if len(zph) > 0 and len(ztr) > 0: \n",
    "        ez = (zph - ztr) / (1 + ztr)\n",
    "        sigma_68 = np.quantile(ez, 0.84) - np.quantile(ez, 0.16)\n",
    "        sigmas.append(sigma_68)\n",
    "    else:\n",
    "        sigmas.append(np.nan) \n",
    "    \n",
    "mean_full = np.nanmean(sigmas)"
   ]
  },
  {
   "cell_type": "markdown",
   "id": "2534b9f6-b12d-4c82-8b66-2a3e8d51d075",
   "metadata": {
    "tags": []
   },
   "source": [
    "## Understanding MagLim cuts\n",
    "The objective here is to look at the redshift x magnitude space to check what happens when we change the parameters"
   ]
  },
  {
   "cell_type": "code",
   "execution_count": null,
   "id": "90123948-c429-4f49-8ca7-71bfdd4161fa",
   "metadata": {
    "tags": []
   },
   "outputs": [],
   "source": [
    "a_values = np.arange(2.5, 3.5, 0.5)\n",
    "b_values = np.arange(18.0, 19.5, 0.5)\n",
    "\n",
    "z_diff_ratio = (catalog['zphot'] - catalog['redshift']) / (1 + catalog['redshift'])\n",
    "\n",
    "plt.figure(figsize=(10, 6))\n",
    "\n",
    "hb = plt.hexbin(catalog['zphot'], catalog['mag_i_lsst'], C=z_diff_ratio,\n",
    "                gridsize=400, cmap='inferno', reduce_C_function=np.mean, vmin=0, vmax=0.03)\n",
    "\n",
    "cbar = plt.colorbar(hb)\n",
    "cbar.set_label(r'$\\sigma_z$', fontsize=22)\n",
    "\n",
    "x_vals = np.linspace(min(catalog['zphot']), max(catalog['zphot']), 100)\n",
    "\n",
    "for a in a_values:\n",
    "    for b in b_values:\n",
    "        y_vals = a * x_vals + b\n",
    "        plt.plot(x_vals, y_vals, label=f'a={a}, b={b}', linewidth=1,ls='--')\n",
    "\n",
    "\n",
    "plt.xlabel(r'$z_{phot}$', fontsize=22)\n",
    "plt.ylabel('mag i', fontsize=20)\n",
    "plt.tick_params(axis='both', which='major', labelsize=18)\n",
    "plt.xlim(0, 3)\n",
    "plt.ylim(17.5, 24)\n",
    "\n",
    "plt.legend(fontsize=20, loc='lower right')\n",
    "plt.title('MagLim cuts', fontsize=22)\n",
    "\n",
    "plt.tight_layout()\n",
    "plt.show()"
   ]
  },
  {
   "cell_type": "markdown",
   "id": "5e2f5b0d-5e93-4ca8-a214-5bc7e9502dd5",
   "metadata": {
    "tags": []
   },
   "source": [
    "## Optimizing MagLim sample"
   ]
  },
  {
   "cell_type": "code",
   "execution_count": null,
   "id": "8cbdd084-f77d-4751-82b5-5bd6150366dc",
   "metadata": {
    "tags": []
   },
   "outputs": [],
   "source": [
    "# Parameters to be tested\n",
    "a_vec = np.arange(3, 7, 0.5) \n",
    "b_vec = np.arange(17, 20, 0.5) \n",
    "\n",
    "samples = {}\n",
    "for a in a_vec:\n",
    "    for b in b_vec:\n",
    "        mask = catalog['mag_i_lsst']<a*catalog['zphot']+b\n",
    "        filtered_catalog = catalog[mask]\n",
    "        samples[f'a({a}) b({b})'] = filtered_catalog\n"
   ]
  },
  {
   "cell_type": "code",
   "execution_count": null,
   "id": "8e936798-8a13-4326-80ed-e63bf7572e06",
   "metadata": {
    "tags": []
   },
   "outputs": [],
   "source": [
    "# Initialize lists to store the mean sigma_68 and the sample size\n",
    "mean_sigmas = []\n",
    "sample_sizes = []\n",
    "ratio = []\n",
    "z_bins = np.linspace(0, 1.2, 13) \n",
    "\n",
    "# Iterate over each sample in the dictionary of samples\n",
    "for key in samples.keys():\n",
    "    data = samples[key]\n",
    "    \n",
    "    sigmas = []  \n",
    "    valid_bins = []  \n",
    "    \n",
    "    # Iterate over the redshift bins\n",
    "    for index in range(1, len(z_bins)):\n",
    "        zph = data['zphot'][(data['zphot'] <= z_bins[index]) & (data['zphot'] >= z_bins[index-1])]\n",
    "        ztr = data['redshift'][(data['zphot'] <= z_bins[index]) & (data['zphot'] >= z_bins[index-1])]\n",
    "        \n",
    "        if len(zph) > 0 and len(ztr) > 0: \n",
    "            ez = (zph - ztr) / (1 + ztr)  # Calculate E_z\n",
    "            sigma_68 = np.quantile(ez, 0.84) - np.quantile(ez, 0.16)  \n",
    "            sigmas.append(sigma_68)\n",
    "            valid_bins.append(z_bins[index])\n",
    "        else:\n",
    "            sigmas.append(0.6)  \n",
    "            valid_bins.append(z_bins[index])\n",
    "    \n",
    "    # Calculate the mean sigma_68 for the sample and append to the list\n",
    "    mean_sigma_68 = np.nanmean(sigmas)\n",
    "    mean_sigmas.append(mean_sigma_68)\n",
    "    \n",
    "    # Calculate sample size as a percentage and append to the list\n",
    "    size_frac = len(data['zphot']) / len(catalog['zphot'])\n",
    "    sample_sizes.append(size_frac * 100)\n",
    "    ratio.append(size_frac*mean_full/mean_sigma_68)\n",
    "\n",
    "# Create the first plot: bar for mean sigma_68 and line for sample size\n",
    "fig, ax1 = plt.subplots(figsize=(12, 6))\n",
    "bars = ax1.bar(samples.keys(), mean_sigmas, color='skyblue')\n",
    "ax1.axhline(mean_full,color='black',linestyle='--',label=r'Mean $\\sigma_z/(1+z)$ for full sample')\n",
    "ax1.set_xlabel('Samples', fontsize=12)\n",
    "ax1.set_ylabel(r'Mean $\\sigma_z/(1+z)$', fontsize=12, color='blue')\n",
    "ax1.set_title(r'Mean $\\sigma_z/(1+z)$ and Size for Each Sample', fontsize=14)\n",
    "ax1.set_xticks(np.arange(len(samples.keys())))\n",
    "ax1.set_xticklabels(samples.keys(), rotation=90)\n",
    "ax1.set_ylim(0, 0.1)\n",
    "ax1.legend()\n",
    "ax1.grid(True)\n",
    "\n",
    "ax2 = ax1.twinx()\n",
    "ax2.set_ylabel('Sample Size (%)', fontsize=12, color='red')\n",
    "ax2.plot(samples.keys(), sample_sizes, 'o-', color='red', label='Sample Size (%)')\n",
    "ax2.set_ylim(0, max(sample_sizes) * 1.1)\n",
    "plt.tight_layout()\n",
    "plt.show()\n",
    "\n",
    "\n",
    "\n",
    "# Create the second plot: bar for density per degree^2\n",
    "fig, ax1 = plt.subplots(figsize=(12, 6))\n",
    "bars = ax1.bar(samples.keys(), ratio, color='orange')\n",
    "\n",
    "ax1.set_xticks(np.arange(len(samples.keys())))\n",
    "ax1.set_xticklabels(samples.keys(), rotation=90)\n",
    "ax1.set_ylim(0,1)\n",
    "ax1.set_title(r'Ratio $\\frac{size}{\\sigma_z(1+z)}$', fontsize=16)\n",
    "plt.tight_layout()\n",
    "plt.show()\n",
    "\n",
    "\n",
    "# Filter samples with mean sigma_68 < 0.05 and plot sigma_68 distribution over redshift\n",
    "filtered_samples = [key for key, mean_sigma in zip(samples.keys(), mean_sigmas) if mean_sigma < 0.022]\n",
    "plt.figure(figsize=(10, 7))\n",
    "for key in filtered_samples:\n",
    "    data = samples[key]\n",
    "    sigmas = []\n",
    "    valid_bins = []\n",
    "    \n",
    "    for index in range(1, len(z_bins)):\n",
    "        zph = data['zphot'][(data['zphot'] <= z_bins[index]) & (data['zphot'] >= z_bins[index-1])]\n",
    "        ztr = data['redshift'][(data['zphot'] <= z_bins[index]) & (data['zphot'] >= z_bins[index-1])]\n",
    "        \n",
    "        if len(zph) > 0 and len(ztr) > 0:\n",
    "            ez = (zph - ztr) / (1 + ztr)\n",
    "            sigma_68 = np.quantile(ez, 0.84) - np.quantile(ez, 0.16)\n",
    "            sigmas.append(sigma_68)\n",
    "            valid_bins.append(z_bins[index])\n",
    "        else:\n",
    "            sigmas.append(0.6)\n",
    "            valid_bins.append(z_bins[index])\n",
    "    \n",
    "    plt.scatter(valid_bins, sigmas, s=20, label=key, alpha=0.6)\n",
    "\n",
    "plt.ylim(0, 0.15)\n",
    "plt.axhline(0.02, color='black', linestyle='--')\n",
    "plt.grid(True)\n",
    "plt.xlabel(r'$z_{phot}$', fontsize=16)\n",
    "plt.ylabel(r'$\\sigma_z / (1 + z)$', fontsize=16)\n",
    "plt.title('Distribution of $\\sigma_{68}$ vs $z_{phot}$ for Selected Samples')\n",
    "plt.legend(bbox_to_anchor=(1.05, 1), loc='upper left')\n",
    "plt.tight_layout()\n",
    "plt.show()\n"
   ]
  },
  {
   "cell_type": "markdown",
   "id": "e102131b-109d-4467-bd66-a7a5b9144e90",
   "metadata": {
    "tags": []
   },
   "source": [
    "## Plotting all samples\n",
    "In this segment, we will compute the following metrics: $\\Delta z $, $\\sigma_{68}$, $out_{3 \\sigma}$, $out_{2 \\sigma}$ e FR$_e$.\n",
    "\n",
    "##### Definitions:\n",
    "- $\\Delta z$: The normalized difference between photometric and spectroscopic redshifts.\n",
    "\n",
    "$\\hspace{10cm} \\Delta z = \\frac{z_{phot} - z_{spec}}{1 + z_{spec}}$ \n",
    "<br>\n",
    "\n",
    "\n",
    "- $\\sigma_{68}$: The maximum absolute value of $\\Delta z$ for the 68% of galaxies with the smallest $\\Delta z$ values in bin $i$.\n",
    "\n",
    "$\\hspace{10cm} \\sigma_{68} = max_{i \\in U} \\bigl\\{ \\big|\\frac{z_{phot}^i - z_{spec}^i}{1 + z_{spec}^i} \\big| \\bigl\\}$\n",
    "\n",
    "where U is the set of the 68% of galaxies that have the smallest value of $|z_{phot} − z_{spec} |/(1+z_{spec})$ \n",
    "<br>\n",
    "\n",
    "##### Outlier Metrics:\n",
    "- $out_{3\\sigma}$: The percentage of galaxies with $\\Delta z$ greater than $3\\sigma$.\n",
    "\n",
    "- $out_{2\\sigma}$: The percentage of galaxies with $\\Delta z$ greater than $2\\sigma$.\n",
    "\n",
    "\n"
   ]
  },
  {
   "cell_type": "code",
   "execution_count": null,
   "id": "4314b306-ada4-4e71-920f-099cef2f824b",
   "metadata": {
    "tags": []
   },
   "outputs": [],
   "source": [
    "%%time\n",
    "\n",
    "for sample in samples.keys():\n",
    "    maglim = samples[sample]\n",
    "    percentage = np.round(len(maglim['zphot']) / len(catalog['zphot']) * 100, 2)\n",
    "\n",
    "    print(f'Sample size: {len(maglim[\"zphot\"])}')\n",
    "    print(f'Full size: {len(catalog[\"zphot\"])}')\n",
    "    print(f'Percentage: {percentage}%')\n",
    "\n",
    "    plot_old_valid(maglim['zphot'], maglim['redshift'], code='FlexZBoost',z_max=1.2,\n",
    "                   title=r'Point Estimates Scatter and KDE $N(z)$ ' + fr'{sample}')\n",
    "\n",
    "    ########################################\n",
    "    z_bins = np.arange(0.1, 1.2, 0.02)\n",
    "    sigmas = []\n",
    "    valid_bins = []\n",
    "    sigmas_mag = []\n",
    "    valid_bins_mag = []\n",
    "\n",
    "    for index in range(1, len(z_bins)):\n",
    "        zph = catalog['zphot'][(catalog['zphot'] <= z_bins[index]) & (catalog['zphot'] >= z_bins[index - 1])]\n",
    "        ztr = catalog['redshift'][(catalog['zphot'] <= z_bins[index]) & (catalog['zphot'] >= z_bins[index - 1])]\n",
    "\n",
    "        zph_mag = maglim['zphot'][(maglim['zphot'] <= z_bins[index]) & (maglim['zphot'] >= z_bins[index - 1])]\n",
    "        ztr_mag = maglim['redshift'][(maglim['zphot'] <= z_bins[index]) & (maglim['zphot'] >= z_bins[index - 1])]\n",
    "\n",
    "        if len(zph) > 0 and len(ztr) > 0:\n",
    "            ez = (zph - ztr) / (1 + ztr)\n",
    "            sigma_68 = np.quantile(ez, 0.84) - np.quantile(ez, 0.16)\n",
    "            sigmas.append(sigma_68)\n",
    "            valid_bins.append(z_bins[index])\n",
    "        else:\n",
    "            sigmas.append(0.6)\n",
    "            valid_bins.append(z_bins[index])\n",
    "\n",
    "        if len(zph_mag) > 0 and len(ztr_mag) > 0:\n",
    "            ez_mag = (zph_mag - ztr_mag) / (1 + ztr_mag)\n",
    "            sigma_68_mag = np.quantile(ez_mag, 0.84) - np.quantile(ez_mag, 0.16)\n",
    "            sigmas_mag.append(sigma_68_mag)\n",
    "            valid_bins_mag.append(z_bins[index])\n",
    "        else:\n",
    "            sigmas_mag.append(0.6)\n",
    "            valid_bins_mag.append(z_bins[index])\n",
    "\n",
    "    plt.figure(figsize=(15, 8))\n",
    "\n",
    "    gs = plt.GridSpec(2, 1, height_ratios=[1.5, 1], hspace=0)\n",
    "\n",
    "    ax1 = plt.subplot(gs[0])\n",
    "    ax1.hist(catalog['zphot'], bins=z_bins, histtype='stepfilled', lw=2, label=\"Flux-limited\", color='blue', alpha=0.4)\n",
    "    ax1.hist(maglim['zphot'], bins=z_bins, histtype='stepfilled', lw=2, label=\"MagLim\", color='green', linestyle='--')\n",
    "    ax1.set_yscale('log')\n",
    "    ax1.set_ylabel(r'$n(z)$', fontsize=24)\n",
    "    ax1.set_xlim(0.2, 1.5)\n",
    "    ax1.set_ylim(5e1, 3e5)\n",
    "    ax1.xaxis.set_tick_params(labelsize=18)  \n",
    "    ax1.yaxis.set_tick_params(labelsize=18)  \n",
    "    ax1.legend(fontsize=18,loc=1)\n",
    "\n",
    "    ax2 = plt.subplot(gs[1], sharex=ax1)\n",
    "    ax2.step(z_bins[:-1], sigmas, where='mid', color='blue', lw=2, label='Flux-limited')\n",
    "    ax2.step(z_bins[:-1], sigmas_mag, where='mid', color='green', lw=2, label='MagLim', linestyle='--')\n",
    "    ax2.set_xlabel(r'$z_{phot}$', fontsize=24)\n",
    "    ax2.set_ylabel(r'$\\sigma_{z}/(1+z)$', fontsize=24)\n",
    "    ax2.set_xlim(0.2, 1.5)\n",
    "    ax2.set_ylim(0, 0.08)\n",
    "    ax2.xaxis.set_tick_params(labelsize=18)\n",
    "    ax2.yaxis.set_tick_params(labelsize=18)\n",
    "    ax2.legend(fontsize=18,loc=2)\n",
    "    plt.suptitle(fr'Sample size and $\\sigma_z$ scatter {sample}', fontsize=24)\n",
    "    plt.show()\n",
    "\n",
    "    ######################################################\n",
    "\n",
    "    plot_metrics(maglim['redshift'], maglim['zphot'], maximum=1.2, xlim=1.2, ylim=[-0.005, 0.005],\n",
    "                 initial=0, title=f'Point estimate metrics {sample}')"
   ]
  },
  {
   "cell_type": "code",
   "execution_count": null,
   "id": "f3910c1a-e988-4c69-9ae5-d568fe0f4022",
   "metadata": {},
   "outputs": [],
   "source": []
  }
 ],
 "metadata": {
  "kernelspec": {
   "display_name": "rail",
   "language": "python",
   "name": "rail"
  },
  "language_info": {
   "codemirror_mode": {
    "name": "ipython",
    "version": 3
   },
   "file_extension": ".py",
   "mimetype": "text/x-python",
   "name": "python",
   "nbconvert_exporter": "python",
   "pygments_lexer": "ipython3",
   "version": "3.12.4"
  }
 },
 "nbformat": 4,
 "nbformat_minor": 5
}
