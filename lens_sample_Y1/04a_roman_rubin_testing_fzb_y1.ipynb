{
 "cells": [
  {
   "cell_type": "markdown",
   "id": "9db372bf-8e49-4b22-b3e8-19a8b164d2ee",
   "metadata": {},
   "source": [
    "## **04.a Evaluation of FlexZBoost: Testing Trained Model**\n",
    "#### Authors: **Amanda Farias (afariassantos2@gmail.com), Iago Lopes (iagolops2012@gmail.com)**,\n",
    "#### Creation date: **07/20/2024**,  \n",
    "#### Last Verifed to Run: **09/19/2024** (by @iagolops)\n",
    "\n",
    "The objective of this notebook is to evaluate the performance of the machine learning model FlexZBoost, which was trained in *Notebook 3*. We utilize the test datasets defined in *Notebook 2* to assess the accuracy and reliability of the photo-z predictions. \n",
    "$~$\n",
    "##### Logistics: This notebook is intended to be run through the Jupyter Lab NERSC interface available in __[Jupyter nersc](https://jupyter.nersc.gov/)__ in the **desc-python** kernel."
   ]
  },
  {
   "cell_type": "code",
   "execution_count": null,
   "id": "44b7b537-8142-4549-84b5-648136b2baf0",
   "metadata": {
    "tags": []
   },
   "outputs": [],
   "source": [
    "import h5py\n",
    "import pickle\n",
    "import tables_io\n",
    "import numpy as np\n",
    "import pandas as pd\n",
    "from rail.core.stage import RailStage\n",
    "from rail.core.data import Hdf5Handle\n",
    "from rail.estimation.algos.flexzboost import FlexZBoostEstimator"
   ]
  },
  {
   "cell_type": "markdown",
   "id": "75d75a77-feb0-4cee-9ee2-6b3157e554f5",
   "metadata": {},
   "source": [
    "## Params"
   ]
  },
  {
   "cell_type": "markdown",
   "id": "946fb5f2-3f5a-48bf-bd06-22bfef88d98f",
   "metadata": {},
   "source": [
    "<div class=\"alert alert-block alert-warning\">\n",
    "<b>ATTENTION:</b> This is a change you need to make to ensure the code works correctly, as it needs to run in your NERSC account.\n",
    "</div> "
   ]
  },
  {
   "cell_type": "code",
   "execution_count": null,
   "id": "5bfd5ed0-07ca-412e-8004-362d7a063ea8",
   "metadata": {
    "tags": []
   },
   "outputs": [],
   "source": [
    "nersc_name = 'iago'"
   ]
  },
  {
   "cell_type": "code",
   "execution_count": null,
   "id": "e730167a-1490-418b-bf59-56aa3e87fb4c",
   "metadata": {
    "tags": []
   },
   "outputs": [],
   "source": [
    "DS = RailStage.data_store\n",
    "DS.__class__.allow_overwrite = True\n",
    "\n",
    "path = \"/global/u1/\" + nersc_name[0] + \"/\" + nersc_name\n",
    "sigma = 10"
   ]
  },
  {
   "cell_type": "markdown",
   "id": "4c19fb92-8bb3-465b-86d1-764c6f7a6821",
   "metadata": {
    "tags": []
   },
   "source": [
    "## Load the trained machine learning"
   ]
  },
  {
   "cell_type": "code",
   "execution_count": null,
   "id": "df80e706-743c-4280-82a5-3d672812c213",
   "metadata": {
    "tags": []
   },
   "outputs": [],
   "source": [
    "# Opening Train file\n",
    "with open(f'{path}/train_a_roman_fzb_y1_{sigma}sig.pkl', 'rb') as f:\n",
    "    # Load the object\n",
    "    train_file = pickle.load(f)\n",
    "\n",
    "# Loading test file\n",
    "test_sample = DS.read_file(path=f'{path}/roman_rubin_y1_a_test_{sigma}sig.hdf5', handle_class=Hdf5Handle, key='test_y1_a')"
   ]
  },
  {
   "cell_type": "code",
   "execution_count": null,
   "id": "64396437-35d9-4e7b-b0f0-c9c994bea5c5",
   "metadata": {
    "tags": []
   },
   "outputs": [],
   "source": [
    "limits = []  # selecting the magnitude limits of each band for FlexzBoost settings\n",
    "\n",
    "bands = [\n",
    "    \"mag_u_lsst\", \"mag_g_lsst\", \"mag_r_lsst\", \n",
    "    \"mag_i_lsst\", \"mag_z_lsst\", \"mag_y_lsst\",\n",
    "]\n",
    "print(train_file.z_max)\n",
    "\n",
    "for band in bands:\n",
    "    df = pd.DataFrame(test_sample.data['photometry'])\n",
    "    filtered_df = df[df[f'{band}'] < 99] # we can't count 99 values\n",
    "    limits.append(np.round(max(filtered_df[band]), 2))\n",
    "\n",
    "print(f'Limits: {limits}')"
   ]
  },
  {
   "cell_type": "markdown",
   "id": "d767495a-5d89-4447-9f5a-d46d9db013bf",
   "metadata": {
    "tags": []
   },
   "source": [
    "## Configuring FlexZBoost estimator and testing"
   ]
  },
  {
   "cell_type": "code",
   "execution_count": null,
   "id": "7489e860-22b1-418a-8017-1397b8547014",
   "metadata": {
    "tags": []
   },
   "outputs": [],
   "source": [
    "estimate_fzb = FlexZBoostEstimator.make_stage(\n",
    "    name=f'estimate_a_roman_fzb_y1_{sigma}sig',\n",
    "    hdf5_groupname='photometry',\n",
    "    bands = ['mag_u_lsst',\n",
    "             'mag_g_lsst',\n",
    "             'mag_r_lsst',\n",
    "             'mag_i_lsst',\n",
    "             'mag_z_lsst',\n",
    "             'mag_y_lsst'],\n",
    "    err_bands = ['mag_err_u_lsst',\n",
    "                 'mag_err_g_lsst',\n",
    "                 'mag_err_z_lsst',\n",
    "                 'mag_err_i_lsst',\n",
    "                 'mag_err_z_lsst',\n",
    "                 'mag_err_y_lsst'],\n",
    "    mag_limits={'mag_u_lsst':limits[0],\n",
    "                'mag_g_lsst':limits[1],\n",
    "                'mag_r_lsst':limits[2],\n",
    "                'mag_i_lsst':limits[3],\n",
    "                'mag_z_lsst':limits[4],\n",
    "                'mag_y_lsst':limits[5],},\n",
    "    model=train_file, # using train file from FlexZBoost\n",
    "    filters=\"path\",\n",
    "    zmin=0,\n",
    "    zmax = train_file.z_max,\n",
    "    nzbins=301,\n",
    "    chunk_size=500000,\n",
    "    calculated_point_estimates=['zmode']\n",
    ")"
   ]
  },
  {
   "cell_type": "markdown",
   "id": "a5261baa-7877-4e08-9e22-f9ad3cf5efeb",
   "metadata": {
    "tags": []
   },
   "source": [
    "<div class=\"alert alert-block alert-danger\">\n",
    "<b>attention:</b> ~10 minutes to run</div>"
   ]
  },
  {
   "cell_type": "code",
   "execution_count": null,
   "id": "1c6de44d-5c1b-4d4b-9f2d-e1fdab7efb79",
   "metadata": {
    "tags": []
   },
   "outputs": [],
   "source": [
    "%%time\n",
    "output_fzb = estimate_fzb.estimate(test_sample) #testing\n"
   ]
  }
 ],
 "metadata": {
  "kernelspec": {
   "display_name": "rail",
   "language": "python",
   "name": "rail"
  },
  "language_info": {
   "codemirror_mode": {
    "name": "ipython",
    "version": 3
   },
   "file_extension": ".py",
   "mimetype": "text/x-python",
   "name": "python",
   "nbconvert_exporter": "python",
   "pygments_lexer": "ipython3",
   "version": "3.12.4"
  }
 },
 "nbformat": 4,
 "nbformat_minor": 5
}
