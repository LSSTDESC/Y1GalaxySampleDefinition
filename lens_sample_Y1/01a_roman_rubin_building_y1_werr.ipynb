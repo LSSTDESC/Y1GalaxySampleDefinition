{
 "cells": [
  {
   "cell_type": "markdown",
   "id": "7eb00451-2ad7-47db-99ee-cbdf40e6ab0b",
   "metadata": {},
   "source": [
    "## **01.a Building Roman-Rubin simulation with Y1 error**\n",
    "#### Authors: **Amanda Farias (afariassantos2@gmail.com), Iago Lopes (iagolops2012@gmail.com), Bruno Moraes (bruno.a.l.moraes@gmail.com)**\n",
    "#### Creation date: **08/09/2024**\n",
    "#### Last Verifed to Run: **11/21/2024** (by @iago)\n",
    "\n",
    "\n",
    "The objective of this notebook is to load data from the NERSC and incorporate simulated errors for Y1 into this dataset for project \"**Investigating cosmological biases due to errors in the shape of observed tomographic redshift distributions** [[393]](https://lsstdesc.slac.stanford.edu/DESCPub/app/PB/show_project?pid=393)\". We use the *photerr* code found in this [github repo](https://github.com/jfcrenshaw/photerr/tree/main) which came from the [DESC project 00165](https://portal.lsstdesc.org/DESCPub/app/PB/pub/show_publication?pubid=165) and is based on the Science Drivers to Reference Design and Anticipated Data Products (see: __[ArXiv:0805.2366](https://arxiv.org/abs/0805.2366)__ for details. For extended sources, the calculation is based on [van den Busch et al.(2020)](https://ui.adsabs.harvard.edu/abs/2020A%26A...642A.200V/abstract) and [Kuĳken et al. (2019)](https://www.aanda.org/articles/aa/full_html/2019/05/aa34918-18/aa34918-18.html).\n",
    "$~$\n",
    "##### Logistics: This notebook is intended to be run through the Jupyter Lab NERSC interface available in __[Jupyter nersc](https://jupyter.nersc.gov/)__."
   ]
  },
  {
   "cell_type": "markdown",
   "id": "795f1c32-7037-491d-9f3e-e89d839ed9b3",
   "metadata": {},
   "source": [
    "#### Setting Up the Environment\n",
    "To run these notebooks, you need to use an existing environment or create a new one.\n",
    "<br> $~$\n",
    "##### Creating a New Environment\n",
    "If you need to create a new environment, use the following command: <br>\n",
    "``conda create --name <environment-name>``<br>\n",
    "$~$\n",
    "##### Enabling the Conda Environment as a Python Kernel\n",
    "Now, we'll enable the conda environment as a python kernel. <br>\n",
    "``conda activate <environment-name>`` <br>\n",
    "``python -m ipykernel install --user --name <environment-name> --display-name rail`` <br>\n",
    "$~$\n",
    "##### RAIL installation based on __[RAIL read the docs](https://rail-hub.readthedocs.io/en/latest/source/installation.html)__\n",
    "``git clone https://github.com/LSSTDESC/rail.git`` <br>\n",
    "``cd rail`` <br>\n",
    "``conda activate [env]`` <br>\n",
    "``conda install -n [env] -c conda-forge --file conda-reqs.txt`` <br>\n",
    "``pip install .[algos]``"
   ]
  },
  {
   "cell_type": "code",
   "execution_count": null,
   "id": "9933c0d4-770b-4a4e-ba71-b401677eef43",
   "metadata": {
    "tags": []
   },
   "outputs": [],
   "source": [
    "import sys\n",
    "import tables_io\n",
    "import numpy as np\n",
    "import pandas as pd\n",
    "from tqdm import tqdm\n",
    "import scipy.interpolate\n",
    "import matplotlib.pyplot as plt\n",
    "from photerr import LsstErrorModel\n",
    "\n",
    "%matplotlib inline"
   ]
  },
  {
   "cell_type": "markdown",
   "id": "c22e50fb-5a68-4fad-9351-96dffa4556d8",
   "metadata": {},
   "source": [
    "<div class=\"alert alert-block alert-warning\">\n",
    "<b>ATTENTION:</b> In order to run this notebook on your NERSC account, please update the kernel to use your username.\n",
    "</div> "
   ]
  },
  {
   "cell_type": "code",
   "execution_count": null,
   "id": "b49324d4-de37-4d31-a30d-dd4a8a42cd29",
   "metadata": {
    "tags": []
   },
   "outputs": [],
   "source": [
    "nersc_name = 'iago'"
   ]
  },
  {
   "cell_type": "code",
   "execution_count": null,
   "id": "3ca1b10a-b090-4430-b30b-2d01530cec0f",
   "metadata": {
    "tags": []
   },
   "outputs": [],
   "source": [
    "run = True # if you want to run the calculations\n",
    "save_file = True # if you want to save the .csv file\n",
    "path_file = \"/pscratch/sd\"+ nersc_name[0] + \"/\" + nersc_name + \"/roman_rubin.csv\"  # output path"
   ]
  },
  {
   "cell_type": "code",
   "execution_count": null,
   "id": "c58f5348-35c0-4989-8919-ec6a4b33cc5d",
   "metadata": {
    "tags": []
   },
   "outputs": [],
   "source": [
    "path_origin_data = (\n",
    "    \"/global/cfs/cdirs/lsst/projecta/lsst/groups/CS/roman_rubin_2023_v1.1.3\"\n",
    ")\n",
    "\n",
    "pixels = [\n",
    "    10050,10051,10052,10053,10177,10178,10179,\n",
    "    10180,10181,10305,10306,10307,10308,10429,\n",
    "    10430,10431,10432,10549,10550,10551,10552,\n",
    "    10665,10666,10667,10668,10777,10778,10779,\n",
    "    9921,9922,9923,9924,9925,\n",
    "] # all pixels\n",
    "\n",
    "filts = (\"u\", \"g\", \"r\", \"i\", \"z\", \"y\")\n",
    "short_mag_cols = [f\"LSST_obs_{filt}\" for filt in filts]\n",
    "mag_cols = [f\"mag_{filt}_lsst\" for filt in filts]\n",
    "mag_cols_err = [f\"mag_err_{filt}_lsst\" for filt in filts]\n",
    "short_mag_cols_err = [f\"mag_{filt}_lsst_err\" for filt in filts]\n",
    "    \n",
    "dic_rename = {}\n",
    "for i,filt in enumerate(filts):\n",
    "    dic_rename[short_mag_cols[i]] = mag_cols[i]\n",
    "    dic_rename[short_mag_cols_err[i]] = mag_cols_err[i]\n",
    "    \n",
    "cols_to_keep = ['redshift','ra','dec','diskHalfLightRadiusArcsec', 'spheroidHalfLightRadiusArcsec', 'bulge_frac', 'totalEllipticity','galaxy_id']\n",
    "cols_to_keep = cols_to_keep + mag_cols\n",
    "cols_to_keep"
   ]
  },
  {
   "cell_type": "code",
   "execution_count": null,
   "id": "cac3a0e6-d45d-4e2d-b33b-3f183639ec7a",
   "metadata": {
    "tags": []
   },
   "outputs": [],
   "source": [
    "errModel = LsstErrorModel(extendedType=\"auto\", ndFlag=99, nYrObs=1, renameDict={\"u\": mag_cols[0],\n",
    "                                      \"g\": mag_cols[1],\n",
    "                                      \"r\": mag_cols[2],\n",
    "                                      \"i\": mag_cols[3],\n",
    "                                      \"z\": mag_cols[4],\n",
    "                                      \"y\": mag_cols[5]\n",
    "                                     })\n"
   ]
  },
  {
   "cell_type": "markdown",
   "id": "1be43afa-e246-4b5d-9cbb-ea42873f7c10",
   "metadata": {},
   "source": [
    "For the major and minor axis we are using the following formulas:\n",
    "\n",
    "- **Major Axis**:\n",
    "  $$\n",
    "  a_{gal} = \\frac{s}{\\sqrt{q}}\n",
    "  $$\n",
    "\n",
    "- **Minor Axis**:\n",
    "  $$\n",
    "  b_{gal} = s \\sqrt{q}\n",
    "  $$\n",
    "\n",
    "Where:\n",
    "- \\( s \\) is the weighted size of the galaxy:\n",
    "  $$\n",
    "  s = s_b f_b + s_d (1 - f_b)\n",
    "  $$\n",
    "\n",
    "- \\$( q = \\frac{1 - e}{1 + e}$\\), where \\( e \\) is the ellipticity.\n",
    "\n",
    "\n",
    "Ref: [van den Busch (2020)](https://arxiv.org/pdf/2007.01846) eqs (4) and (5)."
   ]
  },
  {
   "cell_type": "code",
   "execution_count": null,
   "id": "8b7973f5-1968-43e8-a8a0-26d6136f7b8d",
   "metadata": {
    "tags": []
   },
   "outputs": [],
   "source": [
    "# FIXME: This is copy-pasted from a notebook by Sam Schmidt, give precise credit somewhere.\n",
    "\n",
    "cols_to_write = [\"redshift\", \"galaxy_id\", \"ra\", \"dec\"]\n",
    "for filt in filts:\n",
    "    cols_to_write.append(f\"mag_{filt}_lsst\")\n",
    "    cols_to_write.append(f\"mag_err_{filt}_lsst\")\n",
    "\n",
    "df = pd.DataFrame([])\n",
    "z_interval = [0, 1, 2, 3] # FILES ARE SEPARATED BY REDSHIFT RANGE\n",
    "\n",
    "if run:\n",
    "    for pix in tqdm(pixels):  # looking each pixel in files\n",
    "        print(f\"working in pix: {pix}\")\n",
    "\n",
    "        for index in range(\n",
    "            len(z_interval) - 1\n",
    "        ):  # looking each redshift intervals in files\n",
    "            hd5_pix = tables_io.read(\n",
    "                f\"{path_origin_data}/roman_rubin_2023_z_{z_interval[index]}_\"\n",
    "                f\"{z_interval[index+1]}_cutout_{pix}.hdf5\"\n",
    ")\n",
    "\n",
    "\n",
    "            keys = list(hd5_pix.keys())[:-1]  # each file has these keys, so we have to look each one\n",
    "            for key in keys:\n",
    "                df_origin = pd.DataFrame(hd5_pix[key])  # our data\n",
    "                \n",
    "                if df_origin.empty: \n",
    "                    break\n",
    "                else:\n",
    "                    df_temp = df_origin.rename(columns = dic_rename)\n",
    "                    df_temp = df_temp[cols_to_keep]\n",
    "                    df_temp = df_temp[\n",
    "                        (df_temp[\"mag_i_lsst\"] < 26.5) & (df_temp[\"mag_i_lsst\"] > 17.5) \n",
    "                    ]  # Cutting the data into  CUTTING THE DATA!!!  \n",
    "\n",
    "                df_temp[\"pix\"] = pix\n",
    "                df = pd.concat([df, df_temp])\n",
    "\n",
    "        print(f'size: {len(df[\"redshift\"])}')\n",
    "        \n",
    "        \n",
    "#calculating the minor and major axis of each object\n",
    "s_b = df['spheroidHalfLightRadiusArcsec']\n",
    "s_d = df['diskHalfLightRadiusArcsec']\n",
    "f_b = df['bulge_frac']\n",
    "e = df['totalEllipticity']\n",
    "\n",
    "s = s_b*f_b + s_d*(1-f_b)\n",
    "q = (1-e)/(1+e)\n",
    "\n",
    "major = np.array(s/np.sqrt(q))\n",
    "minor = np.array(s*np.sqrt(q))\n",
    "\n",
    "df['major'] = major\n",
    "df['minor'] = minor\n",
    "\n",
    "df = errModel(df, random_state = 42)"
   ]
  },
  {
   "cell_type": "code",
   "execution_count": null,
   "id": "5c304275-7915-42e3-a291-04558e559451",
   "metadata": {
    "tags": []
   },
   "outputs": [],
   "source": [
    "df = df.rename(columns = dic_rename)\n",
    "df"
   ]
  },
  {
   "cell_type": "code",
   "execution_count": null,
   "id": "54fd8dec-b6e6-45e0-ad67-4733c7dd6ae3",
   "metadata": {
    "tags": []
   },
   "outputs": [],
   "source": [
    "if save_file:\n",
    "    df.to_csv(path_file, sep=\" \", index=False)"
   ]
  }
 ],
 "metadata": {
  "kernelspec": {
   "display_name": "rail",
   "language": "python",
   "name": "rail"
  },
  "language_info": {
   "codemirror_mode": {
    "name": "ipython",
    "version": 3
   },
   "file_extension": ".py",
   "mimetype": "text/x-python",
   "name": "python",
   "nbconvert_exporter": "python",
   "pygments_lexer": "ipython3",
   "version": "3.12.4"
  }
 },
 "nbformat": 4,
 "nbformat_minor": 5
}
