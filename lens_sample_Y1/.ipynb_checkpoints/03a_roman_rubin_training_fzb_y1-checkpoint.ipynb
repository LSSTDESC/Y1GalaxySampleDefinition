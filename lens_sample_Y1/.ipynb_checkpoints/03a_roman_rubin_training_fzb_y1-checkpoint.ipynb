{
 "cells": [
  {
   "cell_type": "markdown",
   "id": "ab9ed90a-34a5-477a-aa17-a934dbcedc17",
   "metadata": {},
   "source": [
    "## **03.a Training FlexZBoost**\n",
    "#### Authors: **Amanda Farias (afariassantos2@gmail.com), Iago Lopes (iagolops2012@gmail.com), Bruno Moraes (bruno.a.l.moraes@gmail.com)**\n",
    "#### Creation date: **09/10/2024**,  \n",
    "#### Last Verifed to Run: **11/19/2024** (by @iago)\n",
    "\n",
    "\n",
    "The objective of this notebook is to train the data selected on the previous notebook \"02a_roman_rubin_analysis.ipynb\". More details about FlexZBoost can be found in: https://arxiv.org/abs/1704.08095."
   ]
  },
  {
   "cell_type": "code",
   "execution_count": null,
   "id": "9015fa78-76dc-499a-9775-eb94297d4954",
   "metadata": {
    "tags": []
   },
   "outputs": [],
   "source": [
    "import pandas as pd\n",
    "import h5py\n",
    "import numpy as np\n",
    "import matplotlib.pyplot as plt\n",
    "from Plots import plot_position\n",
    "from rail.core.stage import RailStage\n",
    "from rail.core.data import PqHandle, TableHandle\n",
    "from rail.estimation.algos.flexzboost import FlexZBoostInformer\n",
    "from rail.core.data import Hdf5Handle\n",
    "from scipy.spatial import Delaunay\n",
    "from rail.estimation.algos.flexzboost import FlexZBoostEstimator"
   ]
  },
  {
   "cell_type": "code",
   "execution_count": null,
   "id": "cf24826e-5d27-4d99-a046-85c8af416c70",
   "metadata": {
    "tags": []
   },
   "outputs": [],
   "source": [
    "def create_output_file(outfile,xdf,num_rows):\n",
    "    outf = h5py.File(outfile,\"w\")\n",
    "    xx = outf.create_group('photometry')\n",
    "    xx['galaxy_id']=xdf['galaxy_id'][:num_rows]\n",
    "    for key in xdf.keys():\n",
    "        if key != 'galaxy_id':\n",
    "            xx[f'{key}'] = xdf[key][:num_rows]\n",
    "    outf.close()"
   ]
  },
  {
   "cell_type": "markdown",
   "id": "960178da-c0f2-4a68-9c4c-6645ebc84f7c",
   "metadata": {},
   "source": [
    "<div class=\"alert alert-block alert-warning\">\n",
    "<b>ATTENTION:</b> This is a change you need to make to ensure the code works correctly, as it needs to run in your NERSC account.\n",
    "</div> "
   ]
  },
  {
   "cell_type": "code",
   "execution_count": null,
   "id": "3b61744c-5c66-4eba-aa6a-53a047314fdf",
   "metadata": {
    "tags": []
   },
   "outputs": [],
   "source": [
    "nersc_name = 'iago'"
   ]
  },
  {
   "cell_type": "markdown",
   "id": "83b21549-5035-4089-b4cd-d358b7e6e273",
   "metadata": {
    "tags": []
   },
   "source": [
    "Loading the data"
   ]
  },
  {
   "cell_type": "code",
   "execution_count": null,
   "id": "814ee58e-967b-44f8-a2a5-1293badab6ce",
   "metadata": {
    "tags": []
   },
   "outputs": [],
   "source": [
    "DS = RailStage.data_store\n",
    "DS.__class__.allow_overwrite = True\n",
    "\n",
    "path= \"/pscratch/sd/\" + nersc_name[0] + \"/\" + nersc_name \n",
    "save_file  = True"
   ]
  },
  {
   "cell_type": "code",
   "execution_count": null,
   "id": "b7a0f330-a948-4c37-94d8-10593143dc09",
   "metadata": {
    "tags": []
   },
   "outputs": [],
   "source": [
    "catalog = pd.read_csv(f\"{path}/roman_rubin.csv\", sep=\" \")"
   ]
  },
  {
   "cell_type": "code",
   "execution_count": null,
   "id": "d9480e07-6631-4809-8439-678e42977187",
   "metadata": {
    "tags": []
   },
   "outputs": [],
   "source": [
    "# Values defined in notebook 02a_roman_rubin_analysis\n",
    "sigma = 10\n",
    "\n",
    "if sigma == 10:\n",
    "    i_cut = 23.7\n",
    "    err_cut = 2.5*np.log10(1+0.1)\n",
    "elif sigma == 5:\n",
    "    i_cut = 24.7\n",
    "    err_cut = 2.5*np.log10(1+0.2)\n",
    "\n",
    "catalog = catalog[catalog[\"mag_i_lsst\"] < i_cut]\n",
    "catalog = catalog[catalog[\"mag_err_i_lsst\"] < err_cut]\n",
    "catalog"
   ]
  },
  {
   "cell_type": "markdown",
   "id": "fdf71635-b285-4d1c-b7eb-856e15187507",
   "metadata": {},
   "source": [
    "## Training\n",
    "In the training and test division, we divide by hand, choosing those who are not next each other."
   ]
  },
  {
   "cell_type": "code",
   "execution_count": null,
   "id": "b1b7af4b-c679-4588-ab2e-c7447dc3ee50",
   "metadata": {
    "tags": []
   },
   "outputs": [],
   "source": [
    "all_pix = list(set(catalog[\"pix\"]))\n",
    "\n",
    "for pix in all_pix:\n",
    "    mask = catalog['pix'] == pix\n",
    "    ra_mean = catalog[mask]['ra'].mean()\n",
    "    dec_mean = catalog[mask]['dec'].mean()\n",
    "    \n",
    "    plt.scatter(catalog[mask]['ra'], catalog[mask]['dec'], s=10, label=pix)\n",
    "    \n",
    "    plt.text(ra_mean, dec_mean, str(pix), fontsize=12, ha='center', va='center')\n",
    "\n",
    "plt.xlabel('RA')\n",
    "plt.ylabel('Dec')\n",
    "plt.show()"
   ]
  },
  {
   "cell_type": "code",
   "execution_count": null,
   "id": "83fc01e8-ef66-4985-80f9-cfadc18ab6a5",
   "metadata": {
    "tags": []
   },
   "outputs": [],
   "source": [
    "test_pix = [\n",
    "    9921, 9922, 9923, 9924, 9925,\n",
    "    10177, 10178, 10179, 10180, 10181,\n",
    "    10429, 10430, 10431, 10432,\n",
    "    10665, 10666, 10667, 10668\n",
    "]\n",
    "\n",
    "\n",
    "train_pix = [pix for pix in all_pix if pix not in test_pix]"
   ]
  },
  {
   "cell_type": "code",
   "execution_count": null,
   "id": "53456b57-6777-4fc3-aef6-ab3ed1882f69",
   "metadata": {
    "tags": []
   },
   "outputs": [],
   "source": [
    "train = pd.DataFrame([])\n",
    "test = pd.DataFrame([])\n",
    "\n",
    "for pix in all_pix:\n",
    "    if pix in train_pix:\n",
    "        train = pd.concat([train, catalog[catalog[\"pix\"] == pix]])\n",
    "    else:\n",
    "        test = pd.concat([test, catalog[catalog[\"pix\"] == pix]])"
   ]
  },
  {
   "cell_type": "code",
   "execution_count": null,
   "id": "f6d15241-8bec-49d8-a4c1-97fef22f40b2",
   "metadata": {
    "tags": []
   },
   "outputs": [],
   "source": [
    "plt.figure(figsize=(10, 8))\n",
    "\n",
    "plt.scatter(train['ra'], train['dec'], s=1, color='#007f5c', alpha=0.6, edgecolor='none')\n",
    "plt.scatter(test['ra'], test['dec'], s=1, color='#d9b44a', alpha=0.6, edgecolor='none')\n",
    "\n",
    "plt.xlabel('Right Ascension (RA)', fontsize=14)\n",
    "plt.ylabel('Declination (Dec)', fontsize=14)\n",
    "plt.title('Train and Test', fontsize=16)\n",
    "\n",
    "plt.scatter([], [], s=70, color='#007f5c', label='Train/Validation')\n",
    "plt.scatter([], [], s=70, color='#d9b44a', label='Test')\n",
    "\n",
    "plt.legend(loc='lower right', fontsize=12)\n",
    "plt.grid(True, linestyle='--', alpha=0.5)\n",
    "\n",
    "plt.xlim(train['ra'].min()-1, train['ra'].max()+2)\n",
    "plt.ylim(train['dec'].min()-1, train['dec'].max()+2)\n",
    "plt.show()\n"
   ]
  },
  {
   "cell_type": "code",
   "execution_count": null,
   "id": "40642299-5731-4535-b75f-4fcb43ffe931",
   "metadata": {
    "tags": []
   },
   "outputs": [],
   "source": [
    "train_cut = train.sample(int(0.2*len(train)),random_state=42) # reducing the size of the data\n",
    "test_cut = test.sample(int(0.7*len(train)),random_state=42)"
   ]
  },
  {
   "cell_type": "code",
   "execution_count": null,
   "id": "d9469750-4602-4632-87e3-c9c391fbf33e",
   "metadata": {
    "tags": []
   },
   "outputs": [],
   "source": [
    "if save_file: # change on the beginning of notebook\n",
    "    test_cut.to_csv(\n",
    "        f\"{path}/roman_rubin_y1_a_test_{sigma}sig.csv\",\n",
    "        sep=\" \", index=False)\n",
    "    train_cut.to_csv(\n",
    "        f\"{path}/roman_rubin_y1_a_train_{sigma}sig.csv\",\n",
    "    sep=\" \", index=False)"
   ]
  },
  {
   "cell_type": "code",
   "execution_count": null,
   "id": "1f844462-1fc4-47bd-91ec-31410efa06bf",
   "metadata": {
    "tags": []
   },
   "outputs": [],
   "source": [
    "### converting all the data to a hdf5 in RAIL's format\n",
    "trainFile = f\"{path}/roman_rubin_y1_a_train_{sigma}sig.hdf5\"\n",
    "testFile = f\"{path}/roman_rubin_y1_a_test_{sigma}sig.hdf5\"\n",
    "\n",
    "tmp_dict_train = train_cut.to_dict(orient='list')\n",
    "tmp_dict_test = test_cut.to_dict(orient='list')\n",
    "\n",
    "def convert_lists_to_arrays(d):\n",
    "    return {key: np.array(value) for key, value in d.items()}\n",
    "\n",
    "\n",
    "array_dict_train = convert_lists_to_arrays(tmp_dict_train)\n",
    "array_dict_test = convert_lists_to_arrays(tmp_dict_test)\n",
    "\n",
    "train = pd.DataFrame(array_dict_train)\n",
    "test = pd.DataFrame(array_dict_test)\n",
    "\n",
    "create_output_file(trainFile, train, len(train['redshift']))\n",
    "create_output_file(testFile, test, len(test['redshift']))"
   ]
  },
  {
   "cell_type": "code",
   "execution_count": null,
   "id": "99d364d8-47a4-4164-b4fd-883c03d537dd",
   "metadata": {
    "tags": []
   },
   "outputs": [],
   "source": [
    "training_data = DS.read_file(\"training_data\", TableHandle, trainFile)\n",
    "test_data = DS.read_file(\"test_data\", TableHandle, testFile)"
   ]
  },
  {
   "cell_type": "code",
   "execution_count": null,
   "id": "6bea3833-1854-4aaa-b370-0c6e07ac2ea0",
   "metadata": {
    "tags": []
   },
   "outputs": [],
   "source": [
    "#### parameters for FZB\n",
    "\n",
    "z_max = max(train[\"redshift\"])\n",
    "z_min = min(train[\"redshift\"])\n",
    "print(z_max)\n",
    "\n",
    "limits = []\n",
    "\n",
    "bands = [\n",
    "    \"mag_u_lsst\", \"mag_g_lsst\", \"mag_r_lsst\", \n",
    "    \"mag_i_lsst\", \"mag_z_lsst\", \"mag_y_lsst\",\n",
    "]\n",
    "\n",
    "for band in bands:\n",
    "    df = pd.DataFrame(training_data.data['photometry'])\n",
    "    filtered_df = df[df[f'{band}'] < 99] # we can't count 99 values\n",
    "    limits.append(float(np.round(max(filtered_df[band]), 2)))\n",
    "\n",
    "print(f\"Limits: {limits}\")"
   ]
  },
  {
   "cell_type": "code",
   "execution_count": null,
   "id": "04f6981a-9a15-4b93-b04b-495b2a33db12",
   "metadata": {
    "tags": []
   },
   "outputs": [],
   "source": [
    "############################ FlexzBoost configurations #########################################\n",
    "\n",
    "basis_system = \"Fourier\"\n",
    "reg = \"squarederror\"\n",
    "max_basis = 35\n",
    "depth = 8\n",
    "\n",
    "################################################################################################\n",
    "\n",
    "fz_dict = dict(\n",
    "    zmin=z_min, zmax=z_max,\n",
    "    nzbins=301, trainfrac=0.5,\n",
    "    bumpmin=0.02, bumpmax=0.35, nbump=20, \n",
    "    sharpmin=0.7, sharpmax=2.1, nsharp=15,\n",
    "    retrain_full=True, nondetect_val=99.0,\n",
    "    max_basis=max_basis, basis_system=basis_system,\n",
    "    bands=[\n",
    "        \"mag_u_lsst\", \"mag_g_lsst\", \"mag_r_lsst\",\n",
    "        \"mag_i_lsst\", \"mag_z_lsst\", \"mag_y_lsst\",\n",
    "    ],\n",
    "    err_bands=[\n",
    "        \"mag_err_u_lsst\", \"mag_err_g_lsst\", \"mag_err_z_lsst\",\n",
    "        \"mag_err_i_lsst\", \"mag_err_z_lsst\", \"mag_err_y_lsst\",\n",
    "    ],\n",
    "    mag_limits={\n",
    "        \"mag_u_lsst\": limits[0], \"mag_g_lsst\": limits[1], \"mag_r_lsst\": limits[2], \n",
    "        \"mag_i_lsst\": limits[3], \"mag_z_lsst\": limits[4], \"mag_y_lsst\": limits[5],\n",
    "    },\n",
    "    hdf5_groupname=\"photometry\",\n",
    "    model=f\"train_a_roman_fzb_y1_{sigma}sig.pkl\",\n",
    "    regression_params={\"max_depth\": depth, \"objective\": f\"reg:{reg}\"},\n",
    ")# qp_representation = 'flexzboost'\n",
    "fz_modelfile = (\n",
    "    f\"train_a_roman_fzb_y1_{sigma}sig.pkl\"\n",
    ")"
   ]
  },
  {
   "cell_type": "code",
   "execution_count": null,
   "id": "3422f5b9-64b1-4c42-98ab-74cf31f0287e",
   "metadata": {
    "tags": []
   },
   "outputs": [],
   "source": [
    "inform_pzflex = FlexZBoostInformer.make_stage(\n",
    "    name=f\"inform_fzboost_a_y1_{sigma}sig\", **fz_dict\n",
    ")"
   ]
  },
  {
   "cell_type": "markdown",
   "id": "6ee016f5-17ee-421d-82c9-2882fc95a583",
   "metadata": {
    "tags": []
   },
   "source": [
    "<div class=\"alert alert-block alert-danger\">\n",
    "    <strong>Warning!</strong> It takes approximately 30 min to train the model.\n",
    "</div>"
   ]
  },
  {
   "cell_type": "code",
   "execution_count": null,
   "id": "9d9665fb-7ef0-42b5-8f04-8086f2269678",
   "metadata": {
    "tags": []
   },
   "outputs": [],
   "source": [
    "%%time\n",
    "inform_pzflex.inform(training_data)"
   ]
  },
  {
   "cell_type": "code",
   "execution_count": null,
   "id": "a945a4ad-011d-497b-b540-998e2d9ef2dd",
   "metadata": {},
   "outputs": [],
   "source": []
  }
 ],
 "metadata": {
  "kernelspec": {
   "display_name": "rail",
   "language": "python",
   "name": "rail"
  },
  "language_info": {
   "codemirror_mode": {
    "name": "ipython",
    "version": 3
   },
   "file_extension": ".py",
   "mimetype": "text/x-python",
   "name": "python",
   "nbconvert_exporter": "python",
   "pygments_lexer": "ipython3",
   "version": "3.12.4"
  }
 },
 "nbformat": 4,
 "nbformat_minor": 5
}
