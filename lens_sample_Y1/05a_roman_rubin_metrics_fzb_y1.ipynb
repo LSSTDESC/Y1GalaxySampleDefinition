{
 "cells": [
  {
   "cell_type": "markdown",
   "id": "68e98250-b820-40f4-b041-741e2cb531da",
   "metadata": {
    "tags": []
   },
   "source": [
    "## **05.a Evaluation of FlexZBoost: Computing Performance Metrics**\n",
    "#### Authors: **Amanda Farias (afariassantos2@gmail.com), Iago Lopes (iagolops2012@gmail.com), Bruno Moraes (bruno.a.l.moraes@gmail.com)**,\n",
    "#### Creation date: **07/15/2024**,  \n",
    "#### Last Verifed to Run: **11/19/2024** (by @iago)\n",
    "\n",
    "The objective of this notebook is to evaluate the performance of the machine learning model FlexZBoost, which was trained in *Notebook 3*. We utilize the test datasets defined in *Notebook 2* to assess the accuracy and reliability of the photo-z predictions. The evaluation includes computing metrics like $\\sigma_z$, the fraction of catastrophic outliers ($FR_e$), and the bias ($\\Delta z$) of the photo-z estimates. For the redshift distribution n(z), we compute the PIT, QQ plots, and  KS tests.\n",
    "$~$\n",
    "##### Logistics: This notebook is intended to be run through the Jupyter Lab NERSC interface available in __[Jupyter nersc](https://jupyter.nersc.gov/)__ in the **desc-python** kernel."
   ]
  },
  {
   "cell_type": "markdown",
   "id": "e2406daa-b695-4579-a818-b0a2f1203a85",
   "metadata": {},
   "source": [
    "<div class=\"alert alert-block alert-danger\">\n",
    "<b>attention:</b> For the final notebook, we will use the test dataset from notebook 2, for now, let's use the previously output evaluated by Iago. </div>"
   ]
  },
  {
   "cell_type": "markdown",
   "id": "ef2e5025-ff47-41b2-a60a-542760c4304e",
   "metadata": {
    "tags": []
   },
   "source": [
    "### Importing packages used in this notebook"
   ]
  },
  {
   "cell_type": "code",
   "execution_count": null,
   "id": "5a39a0a2-1b17-4ded-bb15-2f4196c287b8",
   "metadata": {
    "tags": []
   },
   "outputs": [],
   "source": [
    "import numpy as np\n",
    "import pandas as pd\n",
    "import tables_io\n",
    "import qp\n",
    "import seaborn as sns\n",
    "import matplotlib.pyplot as plt\n",
    "from scipy.interpolate import UnivariateSpline\n",
    "from tqdm import tqdm\n",
    "from matplotlib.colors import LogNorm\n",
    "\n",
    "\n",
    "from rail.core.data import (\n",
    "    TableHandle,\n",
    "    PqHandle,\n",
    "    ModelHandle,\n",
    "    QPHandle,\n",
    "    DataHandle,\n",
    "    Hdf5Handle,\n",
    "    QPOrTableHandle\n",
    ")\n",
    "from rail.estimation.algos.flexzboost import FlexZBoostEstimator\n",
    "from rail.estimation.algos.naive_stack import NaiveStackSummarizer\n",
    "from rail.estimation.algos.true_nz import TrueNZHistogrammer\n",
    "from rail.evaluation.dist_to_dist_evaluator import DistToDistEvaluator\n",
    "from rail.evaluation.dist_to_point_evaluator import DistToPointEvaluator\n",
    "from rail.evaluation.point_to_point_evaluator import PointToPointEvaluator\n",
    "from rail.evaluation.single_evaluator import SingleEvaluator\n",
    "from rail.core.stage import RailStage\n",
    "from Metrics import plot_old_valid, plot_metrics, plot_scatter, plot_pit_qq\n",
    "\n",
    "import warnings\n",
    "warnings.filterwarnings(\"ignore\")"
   ]
  },
  {
   "cell_type": "markdown",
   "id": "62e36495-1b62-4880-8595-ec3f8aebd07e",
   "metadata": {},
   "source": [
    "<div class=\"alert alert-block alert-warning\">\n",
    "<b>ATTENTION:</b> This is a change you need to make to ensure the code works correctly, as it needs to run in your NERSC account.\n",
    "</div> "
   ]
  },
  {
   "cell_type": "code",
   "execution_count": null,
   "id": "be184bb9-90c7-441f-9afc-62b5673fd7e7",
   "metadata": {
    "tags": []
   },
   "outputs": [],
   "source": [
    "nersc_name = 'iago'"
   ]
  },
  {
   "cell_type": "code",
   "execution_count": null,
   "id": "fa3250b4-237f-4b09-8fa9-a4a56f0c65e9",
   "metadata": {
    "tags": []
   },
   "outputs": [],
   "source": [
    "DS = RailStage.data_store\n",
    "DS.__class__.allow_overwrite = True\n",
    "path= \"/pscratch/sd/\" + nersc_name[0] + \"/\" + nersc_name \n",
    "sigma = 10"
   ]
  },
  {
   "cell_type": "markdown",
   "id": "fb74fa53-204d-456b-bfcb-0b136332b157",
   "metadata": {
    "tags": []
   },
   "source": [
    "## Loading results"
   ]
  },
  {
   "cell_type": "code",
   "execution_count": null,
   "id": "a60fcc5e-1b4b-44df-946e-5896fa106aa3",
   "metadata": {
    "tags": []
   },
   "outputs": [],
   "source": [
    "##############################################\n",
    "############### Photo-z redshift #############\n",
    "##############################################\n",
    "\n",
    "############## Download the catalog with the photo-z #############\n",
    "\n",
    "result = DS.read_file('pdfs_data', QPHandle, \n",
    "                      f'{path}/results_y1/output_estimate_a_roman_fzb_y1_{sigma}sig.hdf5')\n",
    "\n",
    "\n",
    "############### Max redshift ##############\n",
    "z_max = result().build_tables()['meta']['xvals'][0][-1]\n",
    "\n",
    "############ X values for plot ############\n",
    "zgrid = np.linspace(0, z_max, 301)\n",
    "\n",
    "################## PDFS ##################\n",
    "pdfs = result().build_tables()['data']['yvals']\n",
    "\n",
    "########## Median or mode of PDF ##########\n",
    "#mean = result().mean()\n",
    "#mean = result().mode(zgrid)\n",
    "\n",
    "#### Array of photo-z with 132891 galaxies\n",
    "zphot = result().ancil['zmode'].flatten()\n",
    "\n",
    "##############################################\n",
    "################ True redshift ###############\n",
    "##############################################\n",
    "\n",
    "catalog = pd.read_csv(f'{path}/roman_rubin_y1_a_test_{sigma}sig.csv', sep=' ')\n",
    "ztrue = catalog['redshift']\n",
    "catalog['zphot'] = zphot"
   ]
  },
  {
   "cell_type": "markdown",
   "id": "778e25c3-cc7d-4dd6-ab99-7a978f9b743b",
   "metadata": {
    "tags": []
   },
   "source": [
    "## Scatter"
   ]
  },
  {
   "cell_type": "code",
   "execution_count": null,
   "id": "1a817a6e-3bf5-44ff-b8dd-61f5d90abcf2",
   "metadata": {
    "tags": []
   },
   "outputs": [],
   "source": [
    "plot_old_valid(zphot, ztrue, code='FlexZBoost', title = r'Point Estimates Scatter and KDE $N(z)$')"
   ]
  },
  {
   "cell_type": "markdown",
   "id": "e7d97e28-3fb2-47bf-be9f-9b85fddb6d9a",
   "metadata": {
    "tags": []
   },
   "source": [
    "## Building the redshift distribution using Naive stack"
   ]
  },
  {
   "cell_type": "markdown",
   "id": "e4e8f848-67c1-42fb-8488-178571d7c41b",
   "metadata": {},
   "source": [
    "The Naive stack method sums the PDFs of all galaxies without considering weights or other parameters. In the ``NaiveStackSummarizer`` from RAIL, the entire redshift range is divided into bins, and the PDFs of all galaxies within each bin are summed. Subsequently, the code normalizes these summed PDFs.\n",
    "\n",
    "For our configuration, we utilize the redshift range defined by the output, starting from 0 to z_max, and divide this range into 300 bins.\n",
    "\n",
    "For a more detailed explanation of each component in the ``NaiveStackSummarizer``, please refer to the __[RAIL documentation](https://github.com/LSSTDESC/rail/blob/6f4e15315962b3010dbd52eb2c4e308710df9b87/docs/source/new_rail_stage.rst#L90)__ on GitHub."
   ]
  },
  {
   "cell_type": "code",
   "execution_count": null,
   "id": "42432a10-47fe-414b-ba83-47ead082160a",
   "metadata": {
    "tags": []
   },
   "outputs": [],
   "source": [
    "##############################################\n",
    "############### Spec-z redshift #############\n",
    "##############################################\n",
    "\n",
    "histogrammer = TrueNZHistogrammer.make_stage(nzbins=301,dz=0.01,zmax=z_max,zmin=0,hdf5_groupname='')\n",
    "catal = catal_hdf.data['photometry']\n",
    "\n",
    "def assign_tomo_bin(redshift):\n",
    "    if 0 <= redshift < 3.1:\n",
    "        return 0\n",
    "\n",
    "catalog['class_id'] = catalog['redshift'].apply(assign_tomo_bin)\n",
    "\n",
    "tomo_bins = catalog[['class_id']]"
   ]
  },
  {
   "cell_type": "code",
   "execution_count": null,
   "id": "023b29c1-9513-4706-b312-033a2a45d8ed",
   "metadata": {
    "tags": []
   },
   "outputs": [],
   "source": [
    "catal = DS.read_file('ztrue_hdf', TableHandle, \n",
    "                      f'{path}/roman_rubin_y1_a_test_{sigma}sig.hdf5')"
   ]
  },
  {
   "cell_type": "code",
   "execution_count": null,
   "id": "ec811296-0b32-43b7-914d-914a3843f763",
   "metadata": {
    "tags": []
   },
   "outputs": [],
   "source": [
    "nz_true = histogrammer.histogram(catal.data['photometry'],tomo_bins=tomo_bins)"
   ]
  },
  {
   "cell_type": "code",
   "execution_count": null,
   "id": "46792b23-62e3-4789-ab41-8c4a346fc185",
   "metadata": {
    "tags": []
   },
   "outputs": [],
   "source": [
    "nz_true.data.plot(xlim=(0,3))\n",
    "plt.title(r'$N(z_{true})$')"
   ]
  },
  {
   "cell_type": "markdown",
   "id": "16c9abea-e95f-44ef-8416-a667775e4d61",
   "metadata": {
    "tags": []
   },
   "source": [
    "Applying this technique to the photo-zs."
   ]
  },
  {
   "cell_type": "code",
   "execution_count": null,
   "id": "03960856-3f73-4025-a059-f69868eaf38c",
   "metadata": {
    "tags": []
   },
   "outputs": [],
   "source": [
    "##############################################\n",
    "############### Photo-z redshift #############\n",
    "##############################################\n",
    "\n",
    "stacker = NaiveStackSummarizer.make_stage(zmin=0.0, zmax=z_max, nzbins=301, nsamples = 20,name='phot',chunk_size=100000)\n",
    "naive_results = stacker.summarize(result)"
   ]
  },
  {
   "cell_type": "code",
   "execution_count": null,
   "id": "1b2723d0-f6db-48ee-acf4-5a26288ae38c",
   "metadata": {
    "tags": []
   },
   "outputs": [],
   "source": [
    "nz_true = DS.read_file('nz_true',QPHandle,f'{path}/true_NZ.hdf5')\n",
    "nz_stacked = DS.read_file('nz_phot',QPHandle,f'{path}/single_NZ_phot.hdf5')"
   ]
  },
  {
   "cell_type": "code",
   "execution_count": null,
   "id": "9bb2b5bc-fb8f-4c53-83b5-9f9c0902dc0f",
   "metadata": {
    "tags": []
   },
   "outputs": [],
   "source": [
    "nz_phot = qp.read(f'{path}/single_NZ_phot.hdf5')\n",
    "nz_true = qp.read(f'{path}/true_NZ.hdf5')\n",
    "\n",
    "y_phot = nz_phot.objdata()['yvals'][0]\n",
    "x_phot = nz_phot.metadata()['xvals'][0]\n",
    "\n",
    "y_true = nz_true.objdata()['pdfs'][0]\n",
    "x_true = nz_true.metadata()['bins'][0]\n",
    "\n",
    "cs = UnivariateSpline(x_true[:-1], y_true)\n",
    "cs.set_smoothing_factor(0.4) # adjust the smoothing of ztrue here !!!!\n",
    "\n",
    "plt.figure(figsize=(10, 6))\n",
    "\n",
    "plt.plot(x_true, cs(x_true), color='#0072B2', lw=2.5, label=r'$z_{\\rm true}$', alpha=0.8)\n",
    "plt.plot(x_phot, y_phot, color='#D55E00', lw=2.5, linestyle='--', label=r'$z_{\\rm phot}$', alpha=0.8)\n",
    "\n",
    "plt.xlabel('Redshift (z)', fontsize=18)\n",
    "plt.ylabel('N(z)', fontsize=18)\n",
    "plt.title(fr'$N(z)$ Naíve Stack {sigma}$\\sigma$', fontsize=20)\n",
    "plt.xlim(0,3)\n",
    "plt.ylim(0,1.5)\n",
    "\n",
    "plt.grid(True, linestyle='--', alpha=0.5)\n",
    "\n",
    "plt.legend(fontsize=16)\n",
    "plt.tight_layout()\n",
    "plt.show()"
   ]
  },
  {
   "cell_type": "markdown",
   "id": "e102131b-109d-4467-bd66-a7a5b9144e90",
   "metadata": {
    "tags": []
   },
   "source": [
    "## Visual metrics\n",
    "In this segment, we will compute the following metrics: $\\Delta z $, $\\sigma_{68}$, $out_{3 \\sigma}$, $out_{2 \\sigma}$ e FR$_e$.\n",
    "\n",
    "##### Definitions:\n",
    "- $\\Delta z$: The normalized difference between photometric and spectroscopic redshifts.\n",
    "\n",
    "$\\hspace{10cm} \\Delta z = \\frac{z_{phot} - z_{spec}}{1 + z_{spec}}$ \n",
    "<br>\n",
    "\n",
    "\n",
    "- $\\sigma_{68}$: The maximum absolute value of $\\Delta z$ for the 68% of galaxies with the smallest $\\Delta z$ values in bin $i$.\n",
    "\n",
    "$\\hspace{10cm} \\sigma_{68} = max_{i \\in U} \\bigl\\{ \\big|\\frac{z_{phot}^i - z_{spec}^i}{1 + z_{spec}^i} \\big| \\bigl\\}$\n",
    "\n",
    "where U is the set of the 68% of galaxies that have the smallest value of $|z_{phot} − z_{spec} |/(1+z_{spec})$ \n",
    "<br>\n",
    "\n",
    "##### Outlier Metrics:\n",
    "- $out_{3\\sigma}$: The percentage of galaxies with $\\Delta z$ greater than $3\\sigma$.\n",
    "\n",
    "- $out_{2\\sigma}$: The percentage of galaxies with $\\Delta z$ greater than $2\\sigma$.\n",
    "\n",
    "\n"
   ]
  },
  {
   "cell_type": "code",
   "execution_count": null,
   "id": "28525b11-4256-4958-9c1c-c118019bb14e",
   "metadata": {
    "tags": []
   },
   "outputs": [],
   "source": [
    "plot_metrics(zphot,ztrue)"
   ]
  },
  {
   "cell_type": "code",
   "execution_count": null,
   "id": "41c4115d-1bdd-4408-9e96-dc29a50997bd",
   "metadata": {
    "tags": []
   },
   "outputs": [],
   "source": [
    "from matplotlib.ticker import MaxNLocator\n",
    "\n",
    "fig, axes = plt.subplots(3, 2, figsize=(10, 12), sharex=True, sharey=True)\n",
    "plt.subplots_adjust(hspace=0.05, wspace=0.05)\n",
    "random_i = [1117,17541,40009,46159,1429298,382]\n",
    "\n",
    "for i, ax in enumerate(axes.flat[:6]):\n",
    "    ax.plot(zgrid, pdfs[random_i[i]], color='dodgerblue', label='FlexZBoost')\n",
    "    ax.axvline(ztrue[random_i[i]], color='orangered', label='z$_{true}$')\n",
    "\n",
    "    ax.set_xlim(-0.05, 3.05)\n",
    "    ax.xaxis.set_major_locator(MaxNLocator(integer=True, prune='both'))  \n",
    "    ax.tick_params(axis='x', labelsize=14)\n",
    "    ax.tick_params(axis='y', labelsize=14)\n",
    "    ax.set_yticks([])\n",
    "\n",
    "    if i in [0, 2, 4]:\n",
    "        ax.set_ylabel('p(z)', fontsize=16)\n",
    "    if i in [4, 5]:\n",
    "        ax.set_xlabel('redshift', fontsize=16)\n",
    "\n",
    "    if i == 0:\n",
    "        ax.legend(fontsize=16,loc=1)\n",
    "\n",
    "plt.suptitle('PDF of a Individual Galaxy', fontsize=20, y=0.92)\n",
    "plt.show()\n"
   ]
  },
  {
   "cell_type": "code",
   "execution_count": null,
   "id": "5239f5ca-87c8-4489-986e-4e35b7079617",
   "metadata": {
    "tags": []
   },
   "outputs": [],
   "source": [
    "%%time\n",
    "plot_pit_qq(pdfs,zgrid,z_true,title=fr'PIT QQ {sigma}$\\sigma$',savefig=True)"
   ]
  }
 ],
 "metadata": {
  "kernelspec": {
   "display_name": "rail",
   "language": "python",
   "name": "rail"
  },
  "language_info": {
   "codemirror_mode": {
    "name": "ipython",
    "version": 3
   },
   "file_extension": ".py",
   "mimetype": "text/x-python",
   "name": "python",
   "nbconvert_exporter": "python",
   "pygments_lexer": "ipython3",
   "version": "3.12.4"
  }
 },
 "nbformat": 4,
 "nbformat_minor": 5
}
